{
 "cells": [
  {
   "cell_type": "markdown",
   "metadata": {},
   "source": [
    "# Linear regression\n",
    "\n",
    "Let’s see how we can make the linear regression model while doing a few work with PyTorch."
   ]
  },
  {
   "cell_type": "code",
   "execution_count": 2,
   "metadata": {},
   "outputs": [
    {
     "data": {
      "text/plain": [
       "'cpu'"
      ]
     },
     "execution_count": 2,
     "metadata": {},
     "output_type": "execute_result"
    }
   ],
   "source": [
    "# import PyTorch and its related packages\n",
    "import torch as T\n",
    "import torch.nn as nn\n",
    "import torch.optim as optim\n",
    "from torch.utils.data import Dataset, DataLoader\n",
    "\n",
    "import matplotlib.pyplot as plt\n",
    "\n",
    "# set default device based on CUDA's availability\n",
    "device = 'cuda' if T.cuda.is_available() else 'cpu'\n",
    "device\n"
   ]
  },
  {
   "cell_type": "markdown",
   "metadata": {},
   "source": [
    "## Linear regression\n",
    "\n",
    "To get our feet wet, we'll start off by looking at the problem of regression.\n",
    "This is the task of predicting a *real valued target* $y$ given a data point $x$.\n",
    "In linear regression, the simplest and still perhaps the most useful approach,\n",
    "we assume that prediction can be expressed as a *linear* combination of the input features \n",
    "(thus giving the name *linear* regression):\n",
    "\n",
    "$$\\hat{y} = w_1 \\cdot x_1 + ... + w_d \\cdot x_d + b$$\n",
    "\n",
    "Given a collection of data points $X$, and corresponding target values $\\boldsymbol{y}$, \n",
    "we'll try to find the *weight* vector $\\boldsymbol{w}$ and bias term $b$ \n",
    "(also called an *offset* or *intercept*)\n",
    "that approximately associate data points $\\boldsymbol{x}_i$ with their corresponding labels $y_i$. \n",
    "Using slightly more advanced math notation, we can express the predictions $\\boldsymbol{\\hat{y}}$\n",
    "corresponding to a collection of datapoints $X$ via the matrix-vector product:\n",
    "\n",
    "$$\\boldsymbol{\\hat{y}} = X \\boldsymbol{w} + b$$\n",
    "\n",
    "Before we can get going, we will need two more things \n",
    "\n",
    "* Some way to measure the quality of the current model  \n",
    "* Some way to manipulate the model to improve its quality\n",
    "\n",
    "### Square loss\n",
    "\n",
    "In order to say whether we've done a good job, \n",
    "we need some way to measure the quality of a model. \n",
    "Generally, we will define a *loss function*\n",
    "that says *how far* are our predictions from the correct answers.\n",
    "For the classical case of linear regression, \n",
    "we usually focus on the squared error.\n",
    "Specifically, our loss will be the sum, over all examples, of the squared error $(y_i-\\hat{y})^2)$ on each:\n",
    "\n",
    "<center>$$\\ell(y, \\hat{y}) = \\sum_{i=1}^n (\\hat{y}_i-y_i)^2.$$</center>\n",
    "\n",
    "For one-dimensional data, we can easily visualize the relationship between our single feature and the target variable. It's also easy to visualize a linear predictor and it's error on each example. \n",
    "Note that squared loss *heavily penalizes outliers*. For the visualized predictor below, the lone outlier would contribute most of the loss.\n",
    "\n",
    "<center>![](../img/linear-regression.png)</center>\n",
    "\n",
    "### Manipulating the model\n",
    "\n",
    "For us to minimize the error,\n",
    "we need some mechanism to alter the model.\n",
    "We do this by choosing values of the *parameters*\n",
    "$\\boldsymbol{w}$ and $b$.\n",
    "This is the only job of the learning algorithm.\n",
    "Take training data ($X$, $y$) and the functional form of the model $\\hat{y} = X\\boldsymbol{w} + b$.\n",
    "Learning then consists of choosing the best possible $\\boldsymbol{w}$ and $b$ based on the available evidence.\n",
    "\n",
    "\n",
    "### Historical note\n",
    "\n",
    "You might reasonably point out that linear regression is a classical statistical model.\n",
    "[According to Wikipedia](https://en.wikipedia.org/wiki/Regression_analysis#History), \n",
    "Legendre first developed the method of least squares regression in 1805,\n",
    "which was shortly thereafter rediscovered by Gauss in 1809. \n",
    "Presumably, Legendre, who had Tweeted about the paper several times,\n",
    "was peeved that Gauss failed to cite his arXiv preprint. \n",
    "\n",
    "<center>![Legendre](../img/legendre.jpeg)</center>\n",
    "\n",
    "Matters of provenance aside, you might wonder - if Legendre and Gauss \n",
    "worked on linear regression, does that mean there were the original deep learning researchers?\n",
    "And if linear regression doesn't wholly belong to deep learning, \n",
    "then why are we presenting a linear model \n",
    "as the first example in a tutorial series on neural networks? \n",
    "Well it turns out that we can express linear regression \n",
    "as the simplest possible (useful) neural network. \n",
    "A neural network is just a collection of nodes (aka neurons) connected by directed edges. \n",
    "In most networks, we arrange the nodes into layers with each feeding its output into the layer above. \n",
    "To calculate the value of any node, we first perform a weighted sum of the inputs (according to weights `w`) \n",
    "and then apply an *activation function*. \n",
    "For linear regression, we only have two layers, one corresponding to the input (depicted in orange) \n",
    "and a one-node layer (depicted in green) correspnding to the ouput.\n",
    "For the output node the activation function is just the identity function.\n",
    "\n",
    "<center>![](../img/onelayer.png)</center>\n",
    "\n",
    "While you certainly don't have to view linear regression through the lens of deep learning, \n",
    "you can (and we will!).\n",
    "To ground the concepts that we just discussed in code, \n",
    "let's actually code up a neural network for linear regression from scratch.\n",
    "\n",
    "To get going, we will generate a simple synthetic dataset by sampling random data points `X[i]` and corresponding labels `y[i]` in the following manner. Out inputs will each be sampled from a random normal distribution with mean $0$ and variance $1$. Our features will be independent. Another way of saying this is that they will have diagonal covariance.  The labels will be generated accoding to the *true* labeling function `y[i] = 2 * X[i][0]- 3.4 * X[i][1] + 4.2 + noise` where the noise is drawn from a random gaussian with mean `0` and variance `.01`. We could express the labeling function in mathematical notation as:\n",
    "\n",
    "$$y = X \\cdot w + b + \\eta, \\quad \\text{for } \\eta \\sim \\mathcal{N}(0,\\sigma^2)$$ "
   ]
  },
  {
   "cell_type": "code",
   "execution_count": 3,
   "metadata": {},
   "outputs": [],
   "source": [
    "num_inputs = 2\n",
    "num_outputs = 1\n",
    "num_examples = 10000\n",
    "dtype = T.float\n",
    "\n",
    "def real_fn(X):\n",
    "    return 2 * X[:, 0] - 3.4 * X[:, 1] + 4.2\n",
    "\n",
    "X = T.randn(num_examples, num_inputs, device=device, dtype=dtype)\n",
    "noise = .1 * T.randn(num_examples, device=device, dtype=dtype)\n",
    "y = (real_fn(X) + noise).view(-1, 1)"
   ]
  },
  {
   "cell_type": "markdown",
   "metadata": {},
   "source": [
    "Notice that each row in ``X`` consists of a 2-dimensional data point and that each row in ``Y`` consists of a 1-dimensional target value. "
   ]
  },
  {
   "cell_type": "code",
   "execution_count": 4,
   "metadata": {},
   "outputs": [
    {
     "name": "stdout",
     "output_type": "stream",
     "text": [
      "tensor([0.9028, 0.5603])\n",
      "tensor([4.2092])\n"
     ]
    }
   ],
   "source": [
    "print(X[0])\n",
    "print(y[0])"
   ]
  },
  {
   "cell_type": "markdown",
   "metadata": {},
   "source": [
    "Note that because our synthetic features `X` live on `device` and because our noise also lives on `device`, the labels `y`, produced by combining `X` and `noise` in `real_fn` also live on `device`. \n",
    "We can confirm that for any randomly chosen point, a linear combination with the (known) optimal parameters produces a prediction that is indeed close to the target value"
   ]
  },
  {
   "cell_type": "code",
   "execution_count": 5,
   "metadata": {},
   "outputs": [
    {
     "name": "stdout",
     "output_type": "stream",
     "text": [
      "tensor(4.1007)\n"
     ]
    }
   ],
   "source": [
    "print(2 * X[0, 0] - 3.4 * X[0, 1] + 4.2)"
   ]
  },
  {
   "cell_type": "markdown",
   "metadata": {},
   "source": [
    "We can visualize the correspondence between our second feature (`X[:, 1]`) and the target values `Y` by generating a scatter plot with the Python plotting package `matplotlib`. Make sure that `matplotlib` is installed. Otherwise, you may install it by running `pip2 install matplotlib` (for Python 2) or `pip3 install matplotlib` (for Python 3) on your command line. \n",
    "\n",
    "In order to plot with `matplotlib` we'll just need to convert `X` and `y` into NumPy arrays by using the `.asnumpy()` function. "
   ]
  },
  {
   "cell_type": "code",
   "execution_count": 6,
   "metadata": {},
   "outputs": [
    {
     "data": {
      "image/png": "[encoded data removed]",
      "text/plain": [
       "<Figure size 432x288 with 1 Axes>"
      ]
     },
     "metadata": {
      "needs_background": "light"
     },
     "output_type": "display_data"
    }
   ],
   "source": [
    "plt.scatter(X[:, 1].cpu().numpy(), y.cpu().numpy())\n",
    "plt.show()"
   ]
  },
  {
   "cell_type": "markdown",
   "metadata": {},
   "source": [
    "## Data iterators\n",
    "\n",
    "Once we start working with neural networks, we're going to need to iterate through our data points quickly. We'll also want to be able to grab batches of `k` data points at a time, to shuffle our data. In PyTorch, data iterators give us a nice set of utilities for fetching and manipulating data. In particular, we'll work with the simple  `DataLoader` class, that provides an intuitive way to use an `Dataset` for training models.\n",
    "\n",
    "We can load `X` and `y` into an `Dataset`, by writing a simple class. It's ok for `X` to be a multi-dimensional input array (say, of images) and `y` to be just a one-dimensional array of labels. The one requirement is that they have equal lengths along the first axis, i.e., `X.size()[0] == y.size()[0]`. \n",
    "\n",
    "Given an `Dataset`, we can create a `DataLoader` which will grab random batches of data from an `Dataset`.  We'll want to specify two arguments. First, we'll need to say the `batch_size`, i.e., how many examples we want to grab at a time. Second, we'll want to specify whether or not to shuffle the data between iterations through the dataset. "
   ]
  },
  {
   "cell_type": "code",
   "execution_count": 7,
   "metadata": {},
   "outputs": [],
   "source": [
    "class LinearDataset(Dataset):\n",
    "    def __init__(self, X, y):\n",
    "        assert X.size()[0] == y.size()[0]\n",
    "        self.X = X\n",
    "        self.y = y\n",
    "    \n",
    "    def __len__(self):\n",
    "        return X.size()[0]\n",
    "    \n",
    "    def __getitem__(self, idx):\n",
    "        return [X[idx], y[idx]]"
   ]
  },
  {
   "cell_type": "code",
   "execution_count": 8,
   "metadata": {},
   "outputs": [],
   "source": [
    "batch_size = 4\n",
    "train_data = DataLoader(LinearDataset(X, y), batch_size=batch_size, shuffle=True)"
   ]
  },
  {
   "cell_type": "markdown",
   "metadata": {},
   "source": [
    "Once we've initialized our DataLoader (`train_data`), we can easily fetch batches by iterating over `train_data` just as if it were a Python list. You can use your favorite iterating techniques like foreach loops: `for data, label in train_data` or enumerations: `for i, (data, label) in enumerate(train_data)`. \n",
    "First, let's just grab one batch and break out of the loop."
   ]
  },
  {
   "cell_type": "code",
   "execution_count": 9,
   "metadata": {},
   "outputs": [
    {
     "name": "stdout",
     "output_type": "stream",
     "text": [
      "tensor([[-0.7802,  1.5608],\n",
      "        [ 1.4831,  0.0034],\n",
      "        [ 0.1547,  0.6412],\n",
      "        [ 0.4740, -1.3410]])\n",
      "tensor([[-2.6427],\n",
      "        [ 7.1457],\n",
      "        [ 2.3641],\n",
      "        [ 9.7435]])\n"
     ]
    }
   ],
   "source": [
    "for i, (data, label) in enumerate(train_data):\n",
    "    print(data)\n",
    "    print(label)\n",
    "    break"
   ]
  },
  {
   "cell_type": "markdown",
   "metadata": {},
   "source": [
    "If we run that same code again you'll notice that we get a different batch. That's because we instructed the `DataLoader` that `shuffle=True`. "
   ]
  },
  {
   "cell_type": "code",
   "execution_count": 10,
   "metadata": {},
   "outputs": [
    {
     "name": "stdout",
     "output_type": "stream",
     "text": [
      "tensor([[-0.1165,  0.0046],\n",
      "        [ 0.2697, -0.1978],\n",
      "        [ 0.9201,  0.6179],\n",
      "        [ 0.4382, -0.4728]])\n",
      "tensor([[3.8257],\n",
      "        [5.3372],\n",
      "        [3.8963],\n",
      "        [6.6257]])\n"
     ]
    }
   ],
   "source": [
    "for i, (data, label) in enumerate(train_data):\n",
    "    print(data)\n",
    "    print(label)\n",
    "    break"
   ]
  },
  {
   "cell_type": "markdown",
   "metadata": {},
   "source": [
    "Finally, if we actually pass over the entire dataset, and count the number of batches, we'll find that there are 2500 batches. We expect this because our dataset has 10,000 examples and we configured the `DataLoader` with a batch size of 4."
   ]
  },
  {
   "cell_type": "code",
   "execution_count": 11,
   "metadata": {},
   "outputs": [
    {
     "name": "stdout",
     "output_type": "stream",
     "text": [
      "2500\n"
     ]
    }
   ],
   "source": [
    "counter = 0\n",
    "for i, (data, label) in enumerate(train_data):\n",
    "    pass\n",
    "print(i + 1)"
   ]
  },
  {
   "cell_type": "markdown",
   "metadata": {},
   "source": [
    "## Define the model\n",
    "\n",
    "For a linear model, the appropriate layer is called `Linear`. It's called a linear layer because every node in the input is connected to every node in the subsequent layer. That description seems excessive because we only have one (non-input) layer here, and that layer only contains one node! But in subsequent chapters we'll typically work with networks that have multiple outputs, so we might as well start thinking in terms of layers of nodes. Because a linear model consists of just a single Dense layer, we can instantiate it with one line."
   ]
  },
  {
   "cell_type": "code",
   "execution_count": 12,
   "metadata": {},
   "outputs": [
    {
     "data": {
      "text/plain": [
       "LinearRegression(\n",
       "  (dense_1): Linear(in_features=2, out_features=1, bias=True)\n",
       ")"
      ]
     },
     "execution_count": 12,
     "metadata": {},
     "output_type": "execute_result"
    }
   ],
   "source": [
    "class LinearRegression(nn.Module):\n",
    "    def __init__(self, **kwargs):\n",
    "        super(LinearRegression, self).__init__(**kwargs)\n",
    "        self.dense_1 = T.nn.Linear(2, 1)\n",
    "        \n",
    "    def forward(self, x):\n",
    "        x = self.dense_1(x)\n",
    "        return x\n",
    "    \n",
    "net = LinearRegression()\n",
    "net.to(device)"
   ]
  },
  {
   "cell_type": "markdown",
   "metadata": {},
   "source": [
    "Ok, that was easy."
   ]
  },
  {
   "cell_type": "markdown",
   "metadata": {},
   "source": [
    "## Loss function\n",
    "\n",
    "Train a model means making it better and better over the course of a period of training. But in order for this goal to make any sense at all, we first need to define what *better* means in the first place. In this case, we'll use the MSE between our prediction and the true value. Instead of writing our own loss function we’re just going to access squared error by instantiating `nn.MESLoss`."
   ]
  },
  {
   "cell_type": "code",
   "execution_count": 13,
   "metadata": {},
   "outputs": [],
   "source": [
    "loss_fn = nn.MSELoss()"
   ]
  },
  {
   "cell_type": "markdown",
   "metadata": {},
   "source": [
    "## Optimizer\n",
    "\n",
    "It turns out that linear regression actually has a closed-form solution. However, most interesting models that we'll care about cannot be solved analytically. So we'll solve this problem by stochastic gradient descent. At each step, we'll estimate the gradient of the loss with respect to our weights, using one batch randomly drawn from our dataset. Then, we'll update our parameters a small amount in the direction that reduces the loss. The size of the step is determined by the *learning rate* `lr`. "
   ]
  },
  {
   "cell_type": "code",
   "execution_count": 14,
   "metadata": {},
   "outputs": [],
   "source": [
    "optimizer = optim.SGD(net.parameters(), lr=1e-5, momentum=0.9)"
   ]
  },
  {
   "cell_type": "markdown",
   "metadata": {},
   "source": [
    "## Execute training loop\n",
    "\n",
    "Now that we have all the pieces, we just need to wire them together by writing a training loop. \n",
    "First we'll define `epochs`, the number of passes to make over the dataset. Then for each pass, we'll iterate through `train_data`, grabbing batches of examples and their corresponding labels. \n",
    "\n",
    "For each batch, we'll go through the following ritual:\n",
    "     \n",
    "* Generate predictions (`yhat`) and the loss (`loss`) by executing a forward pass through the network.\n",
    "* Calculate gradients by making a backwards pass through the network (`loss.backward()`). \n",
    "* Update the model parameters by invoking our SGD optimizer, `use optimizer.step()`.     "
   ]
  },
  {
   "cell_type": "code",
   "execution_count": 15,
   "metadata": {},
   "outputs": [
    {
     "name": "stdout",
     "output_type": "stream",
     "text": [
      "Epoch 0, loss: 5.660791556739807\n",
      "Epoch 1, loss: 2.0820876417472958\n",
      "Epoch 2, loss: 0.7668356999084354\n",
      "Epoch 3, loss: 0.28342551814704203\n",
      "Epoch 4, loss: 0.1057416902472265\n",
      "Epoch 5, loss: 0.04042888775628526\n",
      "Epoch 6, loss: 0.016424476063647307\n",
      "Epoch 7, loss: 0.007607210330905218\n",
      "Epoch 8, loss: 0.0043663726225262505\n",
      "Epoch 9, loss: 0.003174828359502135\n"
     ]
    }
   ],
   "source": [
    "epochs = 10\n",
    "num_batches = num_examples / batch_size\n",
    "losses = []\n",
    "\n",
    "for e in range(epochs):\n",
    "    cumulative_loss = 0\n",
    "    # inner loop\n",
    "    for i, (data, label) in enumerate(train_data):\n",
    "        data = data.to(device)\n",
    "        label = label.to(device)\n",
    "        \n",
    "        yhat = net(data)\n",
    "        loss = loss_fn(yhat, label)\n",
    "        \n",
    "        optimizer.zero_grad()\n",
    "        loss.backward()\n",
    "        optimizer.step()\n",
    "        cumulative_loss += loss.item()\n",
    "    print(\"Epoch %s, loss: %s\" % (e, cumulative_loss / num_examples))\n",
    "    losses.append(cumulative_loss / num_batches)"
   ]
  },
  {
   "cell_type": "markdown",
   "metadata": {},
   "source": [
    "## Visualizing the learning curve\n",
    "Now let's check how quickly SGD learns the linear regression model by plotting the learning curve."
   ]
  },
  {
   "cell_type": "code",
   "execution_count": 15,
   "metadata": {},
   "outputs": [
    {
     "data": {
      "image/png": "[encoded data removed]",
      "text/plain": [
       "<Figure size 576x432 with 1 Axes>"
      ]
     },
     "metadata": {},
     "output_type": "display_data"
    }
   ],
   "source": [
    "plt.figure(num=None, figsize=(8, 6))\n",
    "plt.plot(losses)\n",
    "\n",
    "# Adding some bells and whistles to the plot\n",
    "plt.grid(True, which=\"both\")\n",
    "plt.xlabel('epoch', fontsize=14)\n",
    "plt.ylabel('average loss', fontsize=14)\n",
    "plt.show()"
   ]
  },
  {
   "cell_type": "markdown",
   "metadata": {},
   "source": [
    "## Getting the learned model parameters\n",
    "\n",
    "As an additional sanity check, since we generated the data from a Gaussian linear regression model, we want to make sure that the learner managed to recover the model parameters, which were set to weight $2,-3.4$ with an offset of $4.2$."
   ]
  },
  {
   "cell_type": "code",
   "execution_count": 16,
   "metadata": {},
   "outputs": [
    {
     "name": "stdout",
     "output_type": "stream",
     "text": [
      "The type of \"params\" is a  <class 'generator'>\n",
      "dense_1.weight tensor([[ 1.9786, -3.3776]], device='cuda:0')\n",
      "dense_1.bias tensor([ 4.1732], device='cuda:0')\n"
     ]
    }
   ],
   "source": [
    "params = net.parameters()\n",
    "print('The type of \"params\" is a ', type(params))\n",
    "\n",
    "for name, param in net.named_parameters():\n",
    "    if param.requires_grad:\n",
    "        print(name, param.data)"
   ]
  },
  {
   "cell_type": "markdown",
   "metadata": {},
   "source": [
    "## Visualizing our training progess\n",
    "\n",
    "In the succeeding chapters, we'll introduce more realistic data, fancier models, more complicated loss functions, and more. But the core ideas are the same and the training loop will look remarkably familiar. Because these tutorials are self-contained, you'll get to know this ritual quite well. In addition to updating out model, we'll often want to do some bookkeeping. Among other things, we might want to keep track of training progress and visualize it graphically. We demonstrate one slighly more sophisticated training loop below."
   ]
  },
  {
   "cell_type": "code",
   "execution_count": 17,
   "metadata": {},
   "outputs": [
    {
     "data": {
      "image/png": "[encoded data removed]",
      "text/plain": [
       "<Figure size 432x288 with 2 Axes>"
      ]
     },
     "metadata": {},
     "output_type": "display_data"
    },
    {
     "name": "stdout",
     "output_type": "stream",
     "text": [
      "Epoch 0, batch 2499. Mean loss: 21.23622235829234\n",
      "Epoch 1, batch 2499. Mean loss: 7.850917671012878\n",
      "Epoch 2, batch 2499. Mean loss: 2.9073473278090356\n",
      "Epoch 3, batch 2499. Mean loss: 1.0811181275499984\n",
      "Epoch 4, batch 2499. Mean loss: 0.4061117010721937\n",
      "Epoch 5, batch 2499. Mean loss: 0.15650875556683166\n",
      "Epoch 6, batch 2499. Mean loss: 0.06415486732344143\n",
      "Epoch 7, batch 2499. Mean loss: 0.029984261348628208\n",
      "Epoch 8, batch 2499. Mean loss: 0.01734170236036007\n",
      "Epoch 9, batch 2499. Mean loss: 0.01265756045926828\n"
     ]
    },
    {
     "data": {
      "image/png": "[encoded data removed]",
      "text/plain": [
       "<Figure size 432x288 with 2 Axes>"
      ]
     },
     "metadata": {},
     "output_type": "display_data"
    }
   ],
   "source": [
    "############################################\n",
    "#   Re-initialize the model because it\n",
    "#   is already trained in a previous cell\n",
    "############################################\n",
    "net = LinearRegression()\n",
    "net.to(device)\n",
    "\n",
    "learning_rate = 1e-5\n",
    "optimizer = optim.SGD(net.parameters(), lr=learning_rate, momentum=0.9)\n",
    "############################################\n",
    "#    Script to plot the losses over time\n",
    "############################################\n",
    "def plot(losses, X, sample_size=100):\n",
    "    xs = list(range(len(losses)))\n",
    "    f, (fg1, fg2) = plt.subplots(1, 2)\n",
    "    fg1.set_title('Loss during training')\n",
    "    fg1.plot(xs, losses, '-r')\n",
    "    fg2.set_title('Estimated vs real function')\n",
    "    fg2.plot(X[:sample_size].cpu().detach().numpy(),\n",
    "             net(X[:sample_size, :]).cpu().detach().numpy(), 'or', label='Estimated')\n",
    "    fg2.plot(X[:sample_size].cpu().detach().numpy(),\n",
    "             real_fn(X[:sample_size, :]).cpu().detach().numpy(), '+g', label='Real')\n",
    "    fg2.legend()\n",
    "\n",
    "    plt.show()\n",
    "\n",
    "losses = []\n",
    "plot(losses, X)\n",
    "\n",
    "for e in range(epochs):\n",
    "    cumulative_loss = 0\n",
    "    for i, (data, label) in enumerate(train_data):\n",
    "        data = data.to(device)\n",
    "        label = label.to(device)\n",
    "        \n",
    "        yhat = net(data)\n",
    "        loss = loss_fn(yhat, label)\n",
    "        \n",
    "        optimizer.zero_grad()\n",
    "        loss.backward()\n",
    "        optimizer.step()\n",
    "        cumulative_loss += loss.item()\n",
    "\n",
    "    print(\"Epoch %s, batch %s. Mean loss: %s\" % (e, i, cumulative_loss / num_batches))\n",
    "    losses.append(cumulative_loss/num_batches)\n",
    "            \n",
    "plot(losses, X)"
   ]
  },
  {
   "cell_type": "markdown",
   "metadata": {},
   "source": [
    "## Conclusion \n",
    "\n",
    "As you can see, even for a simple example like linear regression, `Pytorch` can help you to write quick and clean code. Next, we'll repeat this exercise for multi-layer perceptrons, extending these lessons to deep neural networks and (comparatively) real datasets. "
   ]
  }
 ],
 "metadata": {
  "anaconda-cloud": {},
  "kernelspec": {
   "display_name": "Python 3 (ipykernel)",
   "language": "python",
   "name": "python3"
  },
  "language_info": {
   "codemirror_mode": {
    "name": "ipython",
    "version": 3
   },
   "file_extension": ".py",
   "mimetype": "text/x-python",
   "name": "python",
   "nbconvert_exporter": "python",
   "pygments_lexer": "ipython3",
   "version": "3.9.7"
  }
 },
 "nbformat": 4,
 "nbformat_minor": 2
}
